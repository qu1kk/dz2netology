{
 "cells": [
  {
   "cell_type": "code",
   "execution_count": null,
   "metadata": {},
   "outputs": [],
   "source": [
    "word = input('Enter your word => '); print(word[len(word) // 2 - 1 : len(word) // 2 + 1] if(len(word) % 2 == 0 ) else(word[len(word) // 2 ]) )"
   ]
  }
 ],
 "metadata": {
  "language_info": {
   "name": "python"
  }
 },
 "nbformat": 4,
 "nbformat_minor": 2
}
