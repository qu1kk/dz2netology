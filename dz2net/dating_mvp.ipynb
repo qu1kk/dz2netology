{
 "cells": [
  {
   "cell_type": "code",
   "execution_count": null,
   "metadata": {},
   "outputs": [],
   "source": [
    "# Все с парой\n",
    "boys = ['Peter', 'Alex', 'John', 'Arthur', 'Richard']; boys = sorted(boys)\n",
    "girls = ['Kate', 'Liza', 'Kira', 'Emma', 'Trisha']; girls = sorted(girls)\n",
    "\n",
    "# Кто-то без пары\n",
    "\"\"\"\n",
    "boys = ['Peter', 'Alex', 'John', 'Arthur', 'Richard', 'Michael']; boys = sorted(boys)\n",
    "girls = ['Kate', 'Liza', 'Kira', 'Emma', 'Trisha']; girls = sorted(girls)\n",
    "\"\"\"\n",
    "while len(boys) == len(girls):\n",
    "    print('Результат\\nИдеальные пары: ')\n",
    "    for j in range(0, len(boys)):\n",
    "        print(f'{boys[j]} и {girls[j]}')\n",
    "    break\n",
    "else:\n",
    "    print('Кто-то останется без пары') \n"
   ]
  }
 ],
 "metadata": {
  "language_info": {
   "name": "python"
  }
 },
 "nbformat": 4,
 "nbformat_minor": 2
}
